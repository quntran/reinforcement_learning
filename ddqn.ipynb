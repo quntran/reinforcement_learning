{
  "cells": [
    {
      "cell_type": "code",
      "execution_count": null,
      "metadata": {
        "id": "mBlnSDqrfvQ9"
      },
      "outputs": [],
      "source": [
        "import tensorflow as tf\n",
        "from tensorflow.keras.models import Sequential\n",
        "from tensorflow.keras.layers import Dense\n",
        "from tensorflow.keras.optimizers import Adam\n",
        "import matplotlib\n",
        "import matplotlib.pyplot as plt\n",
        "import numpy as np\n",
        "import random\n",
        "import gym\n",
        "from IPython import display as ipythondisplay\n"
      ]
    },
    {
      "cell_type": "code",
      "execution_count": null,
      "metadata": {},
      "outputs": [],
      "source": [
        "def plot(episode, scores, average_scores, current_step, i=True):\n",
        "    if i:\n",
        "        plt.xlabel(\"Episodes\")\n",
        "        plt.ylabel(\"Scores\")\n",
        "        plt.title('Training...')\n",
        "        plt.plot(scores, label='Scores')\n",
        "        # plot average score\n",
        "        plt.plot(average_scores, label='Average')\n",
        "        plt.legend()\n",
        "        plt.grid()\n",
        "        plt.pause(0.001)\n",
        "        plt.show()\n",
        "        print(\"Episode: {} - Current step: {} - Score: {} - Average score: {} - Record: {}\".format(episode, current_step, scores[-1], round(average_scores[-1], 2), max(scores)))\n",
        "        is_ipython = 'inline' in matplotlib.get_backend()\n",
        "        if is_ipython:\n",
        "            ipythondisplay.clear_output(wait=True)\n",
        "    else: print(\"Episode: {} - Current step: {} - Score: {} - Average score: {} - Record: {}\".format(episode, current_step, scores[-1], round(average_scores[-1], 2), max(scores)))\n",
        "\n",
        "def get_average_scores(scores, num):\n",
        "    if len(scores) > num:\n",
        "        return np.average(scores[-num:])\n",
        "    else:\n",
        "        return np.average(scores)\n"
      ]
    },
    {
      "cell_type": "code",
      "execution_count": null,
      "metadata": {
        "colab": {
          "base_uri": "https://localhost:8080/",
          "height": 282
        },
        "id": "yJG2Zv6gf3SU",
        "outputId": "c740d05c-8148-4b74-e1b1-440c7061923a"
      },
      "outputs": [],
      "source": [
        "env = gym.make(\"CartPole-v1\")\n",
        "episodes = 10\n",
        "scores = []\n",
        "for episode in range(1, episodes + 1):\n",
        "    state = env.reset()\n",
        "    score = 0\n",
        "    done = False\n",
        "\n",
        "    while not done:\n",
        "        action = env.action_space.sample()\n",
        "        n_state, reward, done, _ = env.step(action)\n",
        "        score += reward\n",
        "        state = n_state\n",
        "    scores.append(score)\n",
        "\n",
        "env.close()\n"
      ]
    },
    {
      "cell_type": "code",
      "execution_count": null,
      "metadata": {
        "id": "IyJFNBMUhS3L"
      },
      "outputs": [],
      "source": [
        "class ReplayMemory:\n",
        "    def __init__(self, batch_size, capacity):\n",
        "        self.memory = []\n",
        "        self.batch_size = batch_size\n",
        "        self.capacity = capacity\n",
        "        self.count = 0\n",
        "\n",
        "    def push(self, experience):\n",
        "        if len(self.memory) < self.capacity:\n",
        "            self.memory.append(experience)\n",
        "        else:\n",
        "            self.memory[self.count % self.capacity] = experience\n",
        "        self.count += 1\n",
        "\n",
        "    def sample(self):\n",
        "        return random.sample(self.memory, self.batch_size)\n",
        "\n",
        "    def can_provide_sample(self):\n",
        "        return len(self.memory) >= self.batch_size\n",
        "\n",
        "    def extract(self, experiences):\n",
        "        experiences = np.array(experiences, dtype=object)\n",
        "        state = [[j for j in i] for i in experiences[:, 0]]\n",
        "        action = experiences[:, 1]\n",
        "        n_state = [[j for j in i] for i in experiences[:, 2]]\n",
        "        reward = experiences[:, 3]\n",
        "        done = experiences[:, 4]\n",
        "        return state, action, n_state, reward, done\n"
      ]
    },
    {
      "cell_type": "code",
      "execution_count": null,
      "metadata": {
        "id": "YtaLaja2ZvZu"
      },
      "outputs": [],
      "source": [
        "class DQN:\n",
        "    def __init__(self, batch_size, state_shape, action_size, learning_rate=0.001):\n",
        "        self.batch_size = batch_size\n",
        "        self.learning_rate = learning_rate\n",
        "        self.model = Sequential()\n",
        "        self.model.add(Dense(24, input_shape=state_shape, activation='relu'))\n",
        "        self.model.add(Dense(24, activation='relu'))\n",
        "        self.model.add(Dense(action_size, activation='linear'))\n",
        "        self.model.compile(loss='mse', optimizer=Adam(lr=self.learning_rate))\n",
        "\n",
        "    def predict(self, state):\n",
        "        return self.model.predict(state)\n",
        "\n",
        "    def fit(self, state, target):\n",
        "        self.model.fit(state, target, epochs=5, verbose=0)\n",
        "\n",
        "    def copy_weights(self, target_network, tau=1):\n",
        "        # copy weights from target_network to self.model with a factor of tau\n",
        "        weights = target_network.model.get_weights()\n",
        "        self.model.set_weights([(1 - tau) * w + tau * w_target for w, w_target in zip(weights, self.model.get_weights())])\n",
        "        # self.model.set_weights(target_network.model.get_weights())\n"
      ]
    },
    {
      "cell_type": "code",
      "execution_count": null,
      "metadata": {
        "id": "XK9yr-9kXrA_"
      },
      "outputs": [],
      "source": [
        "class EpsilonGreedyStrategy:\n",
        "    def __init__(self, start, end, decay):\n",
        "        self.start = start\n",
        "        self.end = end\n",
        "        self.decay = decay\n",
        "\n",
        "    def get_exploration_rate(self, current_step):\n",
        "        return self.end + (self.start - self.end) * np.exp(-1. * current_step * self.decay)\n"
      ]
    },
    {
      "cell_type": "code",
      "execution_count": null,
      "metadata": {
        "id": "_amPDz9sV752"
      },
      "outputs": [],
      "source": [
        "class Agent:\n",
        "    def __init__(self, state_shape, num_actions, batch_size, memory_size, gamma, start=1, end=0.01, decay=0.001, learning_rate=0.001):\n",
        "        self.current_step = 0\n",
        "        self.gamma = gamma\n",
        "        self.strategy = EpsilonGreedyStrategy(start, end, decay)\n",
        "        self.memory = ReplayMemory(batch_size, memory_size)\n",
        "        self.num_actions = num_actions\n",
        "        self.policy_network = DQN(batch_size, state_shape, num_actions, learning_rate)\n",
        "        self.target_network = DQN(batch_size, state_shape, num_actions, learning_rate)\n",
        "        self.target_network.copy_weights(self.policy_network)\n",
        "\n",
        "    def select_action(self, state, isLearn=True):\n",
        "        rate = self.strategy.get_exploration_rate(self.current_step)\n",
        "        self.current_step += 1\n",
        "        if isLearn and rate > random.random():\n",
        "            return random.randrange(self.num_actions)\n",
        "        else:\n",
        "            return np.argmax(self.policy_network.predict(state))\n",
        "\n",
        "    def update_target(self, tau=1):\n",
        "        self.target_network.copy_weights(self.policy_network, tau)\n",
        "\n",
        "    def memorize(self, experience):\n",
        "        self.memory.push(experience)\n",
        "\n",
        "    def learn(self):\n",
        "        if self.memory.can_provide_sample():\n",
        "            experiences = self.memory.sample()\n",
        "            state, action, n_state, reward, done = self.memory.extract(experiences)\n",
        "            current_q = self.policy_network.predict(np.asarray(state))\n",
        "            next_q = self.policy_network.predict(np.asarray(n_state))\n",
        "            next_action = np.argmax(np.array(next_q), axis=1)\n",
        "            target = max_q * self.gamma + np.array(reward)\n",
        "            for i in range(len(state)):\n",
        "                if done[i]:\n",
        "                    next_q[i, :] = reward[i]\n",
        "                    continue\n",
        "                next_q[i][next_action[i]] = target[i]\n",
        "            for i in range(len(state)):\n",
        "                if done[i]:\n",
        "                    current_q[i, :] = reward[i]\n",
        "                    continue\n",
        "                current_q[i][action[i]] = target[i]\n",
        "            target_f = current_q\n",
        "            self.policy_network.fit(np.asarray(state), np.asarray(target))\n",
        "    \n",
        "    def save_model(self, filename):\n",
        "        self.policy_network.model.save_weights(filename)\n",
        "\n",
        "    def load_model(self, filename):\n",
        "        self.policy_network.model.load_weights(filename)\n",
        "        self.update_target()\n"
      ]
    },
    {
      "cell_type": "code",
      "execution_count": null,
      "metadata": {},
      "outputs": [],
      "source": [
        "agent = Agent(state_shape=env.observation_space.shape, num_actions=2, batch_size=256, memory_size=10000, gamma=0.95)\n",
        "update_target = 20\n",
        "scores = []\n",
        "tf.config.list_physical_devices('GPU')\n",
        "average_scores = []\n",
        "episode = 0"
      ]
    },
    {
      "cell_type": "code",
      "execution_count": null,
      "metadata": {
        "colab": {
          "base_uri": "https://localhost:8080/",
          "height": 710
        },
        "id": "s0aYCiJPb_mu",
        "outputId": "e8f4c2c1-1d6a-4194-cbdf-31fbf975e53b"
      },
      "outputs": [],
      "source": [
        "episodes = 1000\n",
        "for eps in range(episode + 1, episodes + episode):\n",
        "    episode += 1\n",
        "    state = env.reset()\n",
        "    score = 0\n",
        "    done = False\n",
        "\n",
        "    while not done:\n",
        "        env.render()\n",
        "        action = agent.select_action(np.expand_dims(state, 0))\n",
        "        n_state, reward, done, _ = env.step(action)\n",
        "        score += reward\n",
        "        experience = (state, action, n_state, reward, done)\n",
        "        agent.memorize(experience)\n",
        "        state = n_state\n",
        "    \n",
        "    scores.append(score)\n",
        "    average_scores.append(get_average_scores(scores, 20))\n",
        "    print(\"Exporation rate\", agent.strategy.get_exploration_rate(agent.current_step) * 100, \"%\")\n",
        "    plot(eps, scores, average_scores, agent.current_step)\n",
        "    \n",
        "    agent.learn()\n",
        "\n",
        "    if eps % update_target == 0:\n",
        "        agent.update_target(tau=0.01)\n",
        "\n",
        "# print(agent.predict)\n",
        "env.close()\n"
      ]
    },
    {
      "cell_type": "code",
      "execution_count": null,
      "metadata": {},
      "outputs": [],
      "source": [
        "state = env.reset()\n",
        "done = False\n",
        "score = 0\n",
        "while not done:\n",
        "    env.render()\n",
        "    action = agent.select_action(np.expand_dims(state, 0), False)\n",
        "    state, reward, done, _ = env.step(action)\n",
        "    score += reward\n",
        "\n",
        "print(\"Score: {}\".format(score))\n",
        "env.close()"
      ]
    }
  ],
  "metadata": {
    "colab": {
      "collapsed_sections": [],
      "name": "drl.ipynb",
      "provenance": []
    },
    "kernelspec": {
      "display_name": "Python 3.10.4 64-bit",
      "language": "python",
      "name": "python3"
    },
    "language_info": {
      "codemirror_mode": {
        "name": "ipython",
        "version": 3
      },
      "file_extension": ".py",
      "mimetype": "text/x-python",
      "name": "python",
      "nbconvert_exporter": "python",
      "pygments_lexer": "ipython3",
      "version": "3.10.4"
    },
    "vscode": {
      "interpreter": {
        "hash": "d4f8ff64d4ff4b89a5c78339e6f1740560ef4c8d448a2e9df53c6f778fa3d151"
      }
    }
  },
  "nbformat": 4,
  "nbformat_minor": 0
}
